{
 "cells": [
  {
   "cell_type": "markdown",
   "metadata": {},
   "source": [
    "# Selection Table Reader\n",
    "\n",
    "This Notebook contains code which reads a list of directories containing several selection table and groups the wavefiles associated with each selection. An example of a selection table name format is `1705_20170929_231347_062.Table.1.selections.txt` and an example of a corresponding wav file that might be classified in that table is `1705_20170929_231347_sel_13.wav`."
   ]
  },
  {
   "cell_type": "code",
   "execution_count": null,
   "metadata": {},
   "outputs": [],
   "source": [
    "import os\n",
    "import os\n",
    "import numpy as np\n",
    "import shutil\n",
    "\n",
    "#TODO: ensure name standardisation in selection tables\n",
    "\n",
    "\n",
    "# get slection table paths\n",
    "main_dir = # path to main directory\n",
    "dir_list = os.listdir(main_dir)\n",
    "selection_tables = [] # initialise list of selection tables\n",
    "print(os.listdir(main_dir))\n",
    "\n",
    "\n",
    "for dir in dir_list:\n",
    "\n",
    "    # ignore any Python notebooks in directory\n",
    "    if dir.endswith(\".ipynb\"):\n",
    "        continue\n",
    "    \n",
    "    # find all selection table file paths\n",
    "    elif os.path.isdir(dir):\n",
    "\n",
    "        for file in os.listdir(os.path.join(main_dir, dir)):\n",
    "\n",
    "            if file.endswith(\".selections.txt\"):\n",
    "                selection_tables.append(os.path.join(main_dir, dir, file))\n",
    "\n",
    "\n",
    "removed_end_str_length = 26 # length to be removed from end of string\n",
    "\n",
    "whistle_dir_name = \"Whistles\"\n",
    "non_whistle_dir_name = \"No Whistles\"\n",
    "\n",
    "for selection_table in selection_tables:\n",
    "\n",
    "    # get column data from selection tables\n",
    "    columns = np.genfromtxt(selection_table, dtype=str, delimiter=\"\\t\", skip_header=True).T\n",
    "    selection_nums, annotations = columns[0], columns[-1]\n",
    "    number_length = max([len(num_string) for num_string in selection_nums])\n",
    "\n",
    "    # standardise number of zeroes in whistle selection numbers\n",
    "    selection_nums = np.array([num_string.zfill(2) if len(num_string) else num_string for num_string in selection_nums])\n",
    "\n",
    "    # use annotations column in selection table to group whistles\n",
    "    for i, annotation in enumerate(annotations):\n",
    "        if (annotation in [\"W\", \"W_C\", \"W_NC\"]):\n",
    "            shutil.copy(selection_table[:-removed_end_str_length] + \"sel_\" + selection_nums[i] + \".wav\", whistle_dir_name)\n",
    "        elif annotation in [\"NW\"]:\n",
    "            shutil.copy(selection_table[:-removed_end_str_length] + \"sel_\" + selection_nums[i] + \".wav\", non_whistle_dir_name)\n"
   ]
  },
  {
   "cell_type": "code",
   "execution_count": null,
   "metadata": {},
   "outputs": [],
   "source": []
  }
 ],
 "metadata": {
  "kernelspec": {
   "display_name": "Python 3",
   "language": "python",
   "name": "python3"
  },
  "language_info": {
   "codemirror_mode": {
    "name": "ipython",
    "version": 3
   },
   "file_extension": ".py",
   "mimetype": "text/x-python",
   "name": "python",
   "nbconvert_exporter": "python",
   "pygments_lexer": "ipython3",
   "version": "3.8.7"
  }
 },
 "nbformat": 4,
 "nbformat_minor": 2
}
